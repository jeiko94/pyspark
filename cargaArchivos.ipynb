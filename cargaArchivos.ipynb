{
 "cells": [
  {
   "cell_type": "code",
   "execution_count": 2,
   "metadata": {},
   "outputs": [],
   "source": [
    "import pandas as pd\n",
    "from sqlalchemy import create_engine\n"
   ]
  },
  {
   "cell_type": "code",
   "execution_count": 6,
   "metadata": {},
   "outputs": [],
   "source": [
    "csv_file_path = r'C:\\Users\\yeisson.villamil\\OneDrive - MVM Ingenieria de Software\\Escritorio\\Carpetas\\Data engineer\\Data\\sales.csv'\n",
    "# Leer el CSV\n",
    "df = pd.read_csv(csv_file_path, delimiter=',') "
   ]
  },
  {
   "cell_type": "code",
   "execution_count": 7,
   "metadata": {},
   "outputs": [],
   "source": [
    "server = r'PMVM457\\SQLEXPRESS'  # Nombre del servidor que usas en SSMS\n",
    "database = 'ApiRestFul'\n",
    "driver = 'ODBC Driver 17 for SQL Server'  # Ajusta según la versión que tengas instalada\n",
    "\n",
    "# Cadena de conexión con autenticación de Windows\n",
    "# Importante: poner 'Trusted_Connection=yes'\n",
    "connection_string = (\n",
    "    f\"mssql+pyodbc://@{server}/{database}\"\n",
    "    f\"?driver={driver}&Trusted_Connection=yes\"\n",
    ")\n",
    "\n",
    "# Crear el engine de SQLAlchemy\n",
    "engine = create_engine(connection_string)"
   ]
  },
  {
   "cell_type": "code",
   "execution_count": 8,
   "metadata": {},
   "outputs": [
    {
     "name": "stdout",
     "output_type": "stream",
     "text": [
      "Datos importados exitosamente en la tabla 'SalesOrder'.\n"
     ]
    }
   ],
   "source": [
    "df.to_sql('SalesOrder', engine, if_exists='replace', index=False)\n",
    "\n",
    "print(\"Datos importados exitosamente en la tabla 'SalesOrder'.\")"
   ]
  }
 ],
 "metadata": {
  "kernelspec": {
   "display_name": "Algoritmos",
   "language": "python",
   "name": "python3"
  },
  "language_info": {
   "codemirror_mode": {
    "name": "ipython",
    "version": 3
   },
   "file_extension": ".py",
   "mimetype": "text/x-python",
   "name": "python",
   "nbconvert_exporter": "python",
   "pygments_lexer": "ipython3",
   "version": "3.13.1"
  }
 },
 "nbformat": 4,
 "nbformat_minor": 2
}
