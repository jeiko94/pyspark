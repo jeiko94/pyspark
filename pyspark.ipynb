{
 "cells": [
  {
   "cell_type": "code",
   "execution_count": 7,
   "metadata": {},
   "outputs": [],
   "source": [
    "from pyspark.sql import SparkSession\n",
    "from pyspark.sql.functions import col, udf"
   ]
  },
  {
   "cell_type": "code",
   "execution_count": 8,
   "metadata": {},
   "outputs": [],
   "source": [
    "spark = SparkSession.builder.appName(\"ManipulaciónDatos\").getOrCreate()"
   ]
  },
  {
   "cell_type": "code",
   "execution_count": 9,
   "metadata": {},
   "outputs": [
    {
     "name": "stdout",
     "output_type": "stream",
     "text": [
      "+----------------+--------------------+----------+--------------+--------------------+--------------------+--------+---------+---------+\n",
      "|SalesOrderNumber|SalesOrderLineNumber| OrderDate|  CustomerName|        EmailAddress|                Item|Quantity|UnitPrice|TaxAmount|\n",
      "+----------------+--------------------+----------+--------------+--------------------+--------------------+--------+---------+---------+\n",
      "|         SO43701|                   1|2019-07-01|   Christy Zhu|christy12@adventu...|Mountain-100 Silv...|       1|  3399.99| 271.9992|\n",
      "|         SO43704|                   1|2019-07-01|    Julio Ruiz|julio1@adventure-...|Mountain-100 Blac...|       1|  3374.99| 269.9992|\n",
      "|         SO43705|                   1|2019-07-01|     Curtis Lu|curtis9@adventure...|Mountain-100 Silv...|       1|  3399.99| 271.9992|\n",
      "|         SO43700|                   1|2019-07-01|  Ruben Prasad|ruben10@adventure...|  Road-650 Black, 62|       1| 699.0982|  55.9279|\n",
      "|         SO43703|                   1|2019-07-01|Albert Alvarez|albert7@adventure...|    Road-150 Red, 62|       1|  3578.27| 286.2616|\n",
      "+----------------+--------------------+----------+--------------+--------------------+--------------------+--------+---------+---------+\n",
      "only showing top 5 rows\n",
      "\n"
     ]
    }
   ],
   "source": [
    "df_spark = spark.read.csv('sales.csv', header=True, sep=',',inferSchema=True)\n",
    "df_spark.show(5)"
   ]
  },
  {
   "cell_type": "code",
   "execution_count": 10,
   "metadata": {},
   "outputs": [
    {
     "name": "stdout",
     "output_type": "stream",
     "text": [
      "+----------------+--------------------+----------+----------------+--------------------+----------------+--------+---------+---------+\n",
      "|SalesOrderNumber|SalesOrderLineNumber| OrderDate|    CustomerName|        EmailAddress|            Item|Quantity|UnitPrice|TaxAmount|\n",
      "+----------------+--------------------+----------+----------------+--------------------+----------------+--------+---------+---------+\n",
      "|         SO43707|                   1|2019-07-02|      Emma Brown|emma3@adventure-w...|Road-150 Red, 48|       1|  3578.27| 286.2616|\n",
      "|         SO43711|                   1|2019-07-02|Courtney Edwards|courtney1@adventu...|Road-150 Red, 56|       1|  3578.27| 286.2616|\n",
      "|         SO43706|                   1|2019-07-02|    Edward Brown|edward26@adventur...|Road-150 Red, 48|       1|  3578.27| 286.2616|\n",
      "|         SO43708|                   1|2019-07-02|       Brad Deng|brad2@adventure-w...|Road-650 Red, 52|       1| 699.0982|  55.9279|\n",
      "|         SO43709|                   1|2019-07-02|       Martha Xu|martha12@adventur...|Road-150 Red, 52|       1|  3578.27| 286.2616|\n",
      "+----------------+--------------------+----------+----------------+--------------------+----------------+--------+---------+---------+\n",
      "only showing top 5 rows\n",
      "\n"
     ]
    }
   ],
   "source": [
    "df_filtrado = df_spark.filter(col('OrderDate') > '2019-07-01')\n",
    "df_filtrado.show(5)"
   ]
  },
  {
   "cell_type": "markdown",
   "metadata": {},
   "source": [
    "**Seleccionar columnas específicas**\n"
   ]
  },
  {
   "cell_type": "code",
   "execution_count": 12,
   "metadata": {},
   "outputs": [
    {
     "name": "stdout",
     "output_type": "stream",
     "text": [
      "+----------------+--------------+--------------------+--------+---------+\n",
      "|SalesOrderNumber|  CustomerName|                Item|Quantity|UnitPrice|\n",
      "+----------------+--------------+--------------------+--------+---------+\n",
      "|         SO43701|   Christy Zhu|Mountain-100 Silv...|       1|  3399.99|\n",
      "|         SO43704|    Julio Ruiz|Mountain-100 Blac...|       1|  3374.99|\n",
      "|         SO43705|     Curtis Lu|Mountain-100 Silv...|       1|  3399.99|\n",
      "|         SO43700|  Ruben Prasad|  Road-650 Black, 62|       1| 699.0982|\n",
      "|         SO43703|Albert Alvarez|    Road-150 Red, 62|       1|  3578.27|\n",
      "+----------------+--------------+--------------------+--------+---------+\n",
      "only showing top 5 rows\n",
      "\n"
     ]
    }
   ],
   "source": [
    "# Seleccionar columnas específicas\n",
    "df_selected = df_spark.select('SalesOrderNumber', 'CustomerName', 'Item', 'Quantity', 'UnitPrice')\n",
    "df_selected.show(5)"
   ]
  },
  {
   "cell_type": "code",
   "execution_count": 16,
   "metadata": {},
   "outputs": [
    {
     "name": "stdout",
     "output_type": "stream",
     "text": [
      "+----------------+--------+----------------+\n",
      "|SalesOrderNumber|   Total|TotalConImpuesto|\n",
      "+----------------+--------+----------------+\n",
      "|         SO43701| 3399.99|       3671.9892|\n",
      "|         SO43704| 3374.99|       3644.9892|\n",
      "|         SO43705| 3399.99|       3671.9892|\n",
      "|         SO43700|699.0982|        755.0261|\n",
      "|         SO43703| 3578.27|       3864.5316|\n",
      "+----------------+--------+----------------+\n",
      "only showing top 5 rows\n",
      "\n"
     ]
    }
   ],
   "source": [
    "df_calculado = df_spark.withColumn('Total', col('Quantity') * col('UnitPrice')) \\\n",
    "    .withColumn('TotalConImpuesto', col('Total') + col('TaxAmount'))\n",
    "\n",
    "df_calculado.select('SalesOrderNumber', 'Total', 'TotalConImpuesto').show(5)"
   ]
  }
 ],
 "metadata": {
  "kernelspec": {
   "display_name": "Algoritmos",
   "language": "python",
   "name": "python3"
  },
  "language_info": {
   "codemirror_mode": {
    "name": "ipython",
    "version": 3
   },
   "file_extension": ".py",
   "mimetype": "text/x-python",
   "name": "python",
   "nbconvert_exporter": "python",
   "pygments_lexer": "ipython3",
   "version": "3.13.1"
  }
 },
 "nbformat": 4,
 "nbformat_minor": 2
}
